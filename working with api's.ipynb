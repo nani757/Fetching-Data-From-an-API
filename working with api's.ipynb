{
 "cells": [
  {
   "cell_type": "code",
   "execution_count": 11,
   "id": "c35c816e",
   "metadata": {},
   "outputs": [],
   "source": [
    "import pandas as pd\n",
    "import requests"
   ]
  },
  {
   "cell_type": "code",
   "execution_count": 17,
   "id": "16fcc959",
   "metadata": {},
   "outputs": [],
   "source": [
    "response = requests.get(\"https://api.themoviedb.org/3/movie/top_rated?api_key=336bb8186fe78070454ebd7d0019a398&language=en-US&page=1\")"
   ]
  },
  {
   "cell_type": "code",
   "execution_count": 21,
   "id": "7e8f908e",
   "metadata": {},
   "outputs": [],
   "source": [
    "# response_1  = pd.read_json(\"https://api.themoviedb.org/3/movie/top_rated?api_key=336bb8186fe78070454ebd7d0019a398&language=en-US&page=1\")\n",
    "#\"\"\"if the response is 200  its sucessfull \n",
    "#if the response is  500 server  down\n",
    "#if the response is 403 its it's bad request( https://www.youtube.com/watch?v=8NOdgjC1988&list=PLKnIA16_Rmvbr7zKYQuBfsVkjoLcJgxHH&index=18)\n",
    "#if the response is 404 its not available\"\"\""
   ]
  },
  {
   "cell_type": "code",
   "execution_count": 29,
   "id": "6d6ec15c",
   "metadata": {},
   "outputs": [],
   "source": [
    "df = pd.DataFrame(response.json()['results'])[['id','original_title','original_language','popularity','title','vote_count','vote_average']]"
   ]
  },
  {
   "cell_type": "code",
   "execution_count": 31,
   "id": "2d0077b6",
   "metadata": {},
   "outputs": [
    {
     "data": {
      "text/html": [
       "<div>\n",
       "<style scoped>\n",
       "    .dataframe tbody tr th:only-of-type {\n",
       "        vertical-align: middle;\n",
       "    }\n",
       "\n",
       "    .dataframe tbody tr th {\n",
       "        vertical-align: top;\n",
       "    }\n",
       "\n",
       "    .dataframe thead th {\n",
       "        text-align: right;\n",
       "    }\n",
       "</style>\n",
       "<table border=\"1\" class=\"dataframe\">\n",
       "  <thead>\n",
       "    <tr style=\"text-align: right;\">\n",
       "      <th></th>\n",
       "      <th>id</th>\n",
       "      <th>original_title</th>\n",
       "      <th>original_language</th>\n",
       "      <th>popularity</th>\n",
       "      <th>title</th>\n",
       "      <th>vote_count</th>\n",
       "      <th>vote_average</th>\n",
       "    </tr>\n",
       "  </thead>\n",
       "  <tbody>\n",
       "    <tr>\n",
       "      <th>0</th>\n",
       "      <td>667257</td>\n",
       "      <td>Cosas imposibles</td>\n",
       "      <td>es</td>\n",
       "      <td>63.549</td>\n",
       "      <td>Impossible Things</td>\n",
       "      <td>202</td>\n",
       "      <td>9.0</td>\n",
       "    </tr>\n",
       "    <tr>\n",
       "      <th>1</th>\n",
       "      <td>278</td>\n",
       "      <td>The Shawshank Redemption</td>\n",
       "      <td>en</td>\n",
       "      <td>61.377</td>\n",
       "      <td>The Shawshank Redemption</td>\n",
       "      <td>21170</td>\n",
       "      <td>8.7</td>\n",
       "    </tr>\n",
       "    <tr>\n",
       "      <th>2</th>\n",
       "      <td>19404</td>\n",
       "      <td>दिलवाले दुल्हनिया ले जायेंगे</td>\n",
       "      <td>hi</td>\n",
       "      <td>25.235</td>\n",
       "      <td>Dilwale Dulhania Le Jayenge</td>\n",
       "      <td>3567</td>\n",
       "      <td>8.7</td>\n",
       "    </tr>\n",
       "    <tr>\n",
       "      <th>3</th>\n",
       "      <td>238</td>\n",
       "      <td>The Godfather</td>\n",
       "      <td>en</td>\n",
       "      <td>76.815</td>\n",
       "      <td>The Godfather</td>\n",
       "      <td>15802</td>\n",
       "      <td>8.7</td>\n",
       "    </tr>\n",
       "    <tr>\n",
       "      <th>4</th>\n",
       "      <td>652837</td>\n",
       "      <td>ジョゼと虎と魚たち</td>\n",
       "      <td>ja</td>\n",
       "      <td>32.995</td>\n",
       "      <td>Josee, the Tiger and the Fish</td>\n",
       "      <td>208</td>\n",
       "      <td>8.6</td>\n",
       "    </tr>\n",
       "  </tbody>\n",
       "</table>\n",
       "</div>"
      ],
      "text/plain": [
       "       id                original_title original_language  popularity  \\\n",
       "0  667257              Cosas imposibles                es      63.549   \n",
       "1     278      The Shawshank Redemption                en      61.377   \n",
       "2   19404  दिलवाले दुल्हनिया ले जायेंगे                hi      25.235   \n",
       "3     238                 The Godfather                en      76.815   \n",
       "4  652837                     ジョゼと虎と魚たち                ja      32.995   \n",
       "\n",
       "                           title  vote_count  vote_average  \n",
       "0              Impossible Things         202           9.0  \n",
       "1       The Shawshank Redemption       21170           8.7  \n",
       "2    Dilwale Dulhania Le Jayenge        3567           8.7  \n",
       "3                  The Godfather       15802           8.7  \n",
       "4  Josee, the Tiger and the Fish         208           8.6  "
      ]
     },
     "execution_count": 31,
     "metadata": {},
     "output_type": "execute_result"
    }
   ],
   "source": [
    "df.head(5)"
   ]
  },
  {
   "cell_type": "code",
   "execution_count": 32,
   "id": "c2284336",
   "metadata": {},
   "outputs": [
    {
     "data": {
      "text/html": [
       "<div>\n",
       "<style scoped>\n",
       "    .dataframe tbody tr th:only-of-type {\n",
       "        vertical-align: middle;\n",
       "    }\n",
       "\n",
       "    .dataframe tbody tr th {\n",
       "        vertical-align: top;\n",
       "    }\n",
       "\n",
       "    .dataframe thead th {\n",
       "        text-align: right;\n",
       "    }\n",
       "</style>\n",
       "<table border=\"1\" class=\"dataframe\">\n",
       "  <thead>\n",
       "    <tr style=\"text-align: right;\">\n",
       "      <th></th>\n",
       "    </tr>\n",
       "  </thead>\n",
       "  <tbody>\n",
       "  </tbody>\n",
       "</table>\n",
       "</div>"
      ],
      "text/plain": [
       "Empty DataFrame\n",
       "Columns: []\n",
       "Index: []"
      ]
     },
     "execution_count": 32,
     "metadata": {},
     "output_type": "execute_result"
    }
   ],
   "source": [
    "df = pd.DataFrame()\n",
    "df"
   ]
  },
  {
   "cell_type": "code",
   "execution_count": 34,
   "id": "65085b9e",
   "metadata": {},
   "outputs": [],
   "source": [
    "for i in range(1,494):\n",
    "    requests.get(\"https://api.themoviedb.org/3/movie/top_rated?api_key=336bb8186fe78070454ebd7d0019a398&language=en-US&page={}\".format(i))\n",
    "    temp_df=pd.DataFrame(response.json()['results'])[['id','original_title','original_language','popularity','title','vote_count','vote_average']]\n",
    "    df.append(temp_df,ignore_index=True)"
   ]
  },
  {
   "cell_type": "code",
   "execution_count": 36,
   "id": "035ef3bb",
   "metadata": {},
   "outputs": [
    {
     "data": {
      "text/html": [
       "<div>\n",
       "<style scoped>\n",
       "    .dataframe tbody tr th:only-of-type {\n",
       "        vertical-align: middle;\n",
       "    }\n",
       "\n",
       "    .dataframe tbody tr th {\n",
       "        vertical-align: top;\n",
       "    }\n",
       "\n",
       "    .dataframe thead th {\n",
       "        text-align: right;\n",
       "    }\n",
       "</style>\n",
       "<table border=\"1\" class=\"dataframe\">\n",
       "  <thead>\n",
       "    <tr style=\"text-align: right;\">\n",
       "      <th></th>\n",
       "    </tr>\n",
       "  </thead>\n",
       "  <tbody>\n",
       "  </tbody>\n",
       "</table>\n",
       "</div>"
      ],
      "text/plain": [
       "Empty DataFrame\n",
       "Columns: []\n",
       "Index: []"
      ]
     },
     "execution_count": 36,
     "metadata": {},
     "output_type": "execute_result"
    }
   ],
   "source": [
    "df"
   ]
  },
  {
   "cell_type": "code",
   "execution_count": 37,
   "id": "3bbfd794",
   "metadata": {},
   "outputs": [
    {
     "data": {
      "text/plain": [
       "(0, 0)"
      ]
     },
     "execution_count": 37,
     "metadata": {},
     "output_type": "execute_result"
    }
   ],
   "source": [
    "df.shape"
   ]
  },
  {
   "cell_type": "code",
   "execution_count": null,
   "id": "56490c53",
   "metadata": {},
   "outputs": [],
   "source": [
    "df.to_csv(\"movies8.csv\")"
   ]
  }
 ],
 "metadata": {
  "kernelspec": {
   "display_name": "Python 3 (ipykernel)",
   "language": "python",
   "name": "python3"
  },
  "language_info": {
   "codemirror_mode": {
    "name": "ipython",
    "version": 3
   },
   "file_extension": ".py",
   "mimetype": "text/x-python",
   "name": "python",
   "nbconvert_exporter": "python",
   "pygments_lexer": "ipython3",
   "version": "3.9.7"
  }
 },
 "nbformat": 4,
 "nbformat_minor": 5
}
